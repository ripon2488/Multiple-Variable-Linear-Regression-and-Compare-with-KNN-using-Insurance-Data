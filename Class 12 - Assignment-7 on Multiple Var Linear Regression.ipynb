{
 "cells": [
  {
   "cell_type": "markdown",
   "id": "719899b3",
   "metadata": {},
   "source": [
    "# Assignment 07"
   ]
  },
  {
   "cell_type": "code",
   "execution_count": 1,
   "id": "e3e0041d",
   "metadata": {},
   "outputs": [],
   "source": [
    "# import the data\n",
    "# sep x,y\n",
    "# find out the coef , intercept\n",
    "# y = m1*x1 + m2*x2 + m3*x3 + c\n",
    "\n",
    "#KNN Regressor\n",
    "\n",
    "\n",
    "# calculate r2_score\n",
    "#compared"
   ]
  },
  {
   "cell_type": "code",
   "execution_count": 2,
   "id": "9dd16cca",
   "metadata": {},
   "outputs": [],
   "source": [
    "import pandas as pd\n",
    "import numpy as np\n",
    "import seaborn as sns\n",
    "from matplotlib import pyplot as plt"
   ]
  },
  {
   "cell_type": "code",
   "execution_count": 3,
   "id": "8551e36f",
   "metadata": {},
   "outputs": [],
   "source": [
    "# import the data"
   ]
  },
  {
   "cell_type": "code",
   "execution_count": 4,
   "id": "3fc0dcdc",
   "metadata": {},
   "outputs": [
    {
     "data": {
      "text/plain": [
       "(1338, 7)"
      ]
     },
     "execution_count": 4,
     "metadata": {},
     "output_type": "execute_result"
    }
   ],
   "source": [
    "df=pd.read_csv('insurance.csv')\n",
    "df.shape"
   ]
  },
  {
   "cell_type": "code",
   "execution_count": 5,
   "id": "c7749edd",
   "metadata": {},
   "outputs": [
    {
     "data": {
      "text/html": [
       "<div>\n",
       "<style scoped>\n",
       "    .dataframe tbody tr th:only-of-type {\n",
       "        vertical-align: middle;\n",
       "    }\n",
       "\n",
       "    .dataframe tbody tr th {\n",
       "        vertical-align: top;\n",
       "    }\n",
       "\n",
       "    .dataframe thead th {\n",
       "        text-align: right;\n",
       "    }\n",
       "</style>\n",
       "<table border=\"1\" class=\"dataframe\">\n",
       "  <thead>\n",
       "    <tr style=\"text-align: right;\">\n",
       "      <th></th>\n",
       "      <th>age</th>\n",
       "      <th>sex</th>\n",
       "      <th>bmi</th>\n",
       "      <th>children</th>\n",
       "      <th>smoker</th>\n",
       "      <th>region</th>\n",
       "      <th>charges</th>\n",
       "    </tr>\n",
       "  </thead>\n",
       "  <tbody>\n",
       "    <tr>\n",
       "      <th>0</th>\n",
       "      <td>19</td>\n",
       "      <td>female</td>\n",
       "      <td>27.900</td>\n",
       "      <td>0</td>\n",
       "      <td>yes</td>\n",
       "      <td>southwest</td>\n",
       "      <td>16884.92400</td>\n",
       "    </tr>\n",
       "    <tr>\n",
       "      <th>1</th>\n",
       "      <td>18</td>\n",
       "      <td>male</td>\n",
       "      <td>33.770</td>\n",
       "      <td>1</td>\n",
       "      <td>no</td>\n",
       "      <td>southeast</td>\n",
       "      <td>1725.55230</td>\n",
       "    </tr>\n",
       "    <tr>\n",
       "      <th>2</th>\n",
       "      <td>28</td>\n",
       "      <td>male</td>\n",
       "      <td>33.000</td>\n",
       "      <td>3</td>\n",
       "      <td>no</td>\n",
       "      <td>southeast</td>\n",
       "      <td>4449.46200</td>\n",
       "    </tr>\n",
       "    <tr>\n",
       "      <th>3</th>\n",
       "      <td>33</td>\n",
       "      <td>male</td>\n",
       "      <td>22.705</td>\n",
       "      <td>0</td>\n",
       "      <td>no</td>\n",
       "      <td>northwest</td>\n",
       "      <td>21984.47061</td>\n",
       "    </tr>\n",
       "    <tr>\n",
       "      <th>4</th>\n",
       "      <td>32</td>\n",
       "      <td>male</td>\n",
       "      <td>28.880</td>\n",
       "      <td>0</td>\n",
       "      <td>no</td>\n",
       "      <td>northwest</td>\n",
       "      <td>3866.85520</td>\n",
       "    </tr>\n",
       "  </tbody>\n",
       "</table>\n",
       "</div>"
      ],
      "text/plain": [
       "   age     sex     bmi  children smoker     region      charges\n",
       "0   19  female  27.900         0    yes  southwest  16884.92400\n",
       "1   18    male  33.770         1     no  southeast   1725.55230\n",
       "2   28    male  33.000         3     no  southeast   4449.46200\n",
       "3   33    male  22.705         0     no  northwest  21984.47061\n",
       "4   32    male  28.880         0     no  northwest   3866.85520"
      ]
     },
     "execution_count": 5,
     "metadata": {},
     "output_type": "execute_result"
    }
   ],
   "source": [
    "df.head()"
   ]
  },
  {
   "cell_type": "markdown",
   "id": "0319097b",
   "metadata": {},
   "source": [
    "# Encoding\n",
    "- Label Encoding"
   ]
  },
  {
   "cell_type": "code",
   "execution_count": 6,
   "id": "4c874827",
   "metadata": {},
   "outputs": [],
   "source": [
    "from sklearn.preprocessing import LabelEncoder\n",
    "le=LabelEncoder()"
   ]
  },
  {
   "cell_type": "code",
   "execution_count": 7,
   "id": "e5445316",
   "metadata": {},
   "outputs": [
    {
     "data": {
      "text/plain": [
       "Index(['age', 'sex', 'bmi', 'children', 'smoker', 'region', 'charges'], dtype='object')"
      ]
     },
     "execution_count": 7,
     "metadata": {},
     "output_type": "execute_result"
    }
   ],
   "source": [
    "df.columns"
   ]
  },
  {
   "cell_type": "markdown",
   "id": "96b388ad",
   "metadata": {},
   "source": [
    "## For remove warning need import warnings and filter ignore"
   ]
  },
  {
   "cell_type": "code",
   "execution_count": 8,
   "id": "1209155b",
   "metadata": {},
   "outputs": [],
   "source": [
    "import warnings\n",
    "warnings.filterwarnings('ignore')\n",
    "from pandas.core.dtypes.common import is_numeric_dtype"
   ]
  },
  {
   "cell_type": "code",
   "execution_count": 9,
   "id": "09dae99a",
   "metadata": {},
   "outputs": [
    {
     "data": {
      "text/html": [
       "<div>\n",
       "<style scoped>\n",
       "    .dataframe tbody tr th:only-of-type {\n",
       "        vertical-align: middle;\n",
       "    }\n",
       "\n",
       "    .dataframe tbody tr th {\n",
       "        vertical-align: top;\n",
       "    }\n",
       "\n",
       "    .dataframe thead th {\n",
       "        text-align: right;\n",
       "    }\n",
       "</style>\n",
       "<table border=\"1\" class=\"dataframe\">\n",
       "  <thead>\n",
       "    <tr style=\"text-align: right;\">\n",
       "      <th></th>\n",
       "      <th>age</th>\n",
       "      <th>sex</th>\n",
       "      <th>bmi</th>\n",
       "      <th>children</th>\n",
       "      <th>smoker</th>\n",
       "      <th>region</th>\n",
       "      <th>charges</th>\n",
       "    </tr>\n",
       "  </thead>\n",
       "  <tbody>\n",
       "    <tr>\n",
       "      <th>0</th>\n",
       "      <td>19</td>\n",
       "      <td>0</td>\n",
       "      <td>27.900</td>\n",
       "      <td>0</td>\n",
       "      <td>1</td>\n",
       "      <td>3</td>\n",
       "      <td>16884.92400</td>\n",
       "    </tr>\n",
       "    <tr>\n",
       "      <th>1</th>\n",
       "      <td>18</td>\n",
       "      <td>1</td>\n",
       "      <td>33.770</td>\n",
       "      <td>1</td>\n",
       "      <td>0</td>\n",
       "      <td>2</td>\n",
       "      <td>1725.55230</td>\n",
       "    </tr>\n",
       "    <tr>\n",
       "      <th>2</th>\n",
       "      <td>28</td>\n",
       "      <td>1</td>\n",
       "      <td>33.000</td>\n",
       "      <td>3</td>\n",
       "      <td>0</td>\n",
       "      <td>2</td>\n",
       "      <td>4449.46200</td>\n",
       "    </tr>\n",
       "    <tr>\n",
       "      <th>3</th>\n",
       "      <td>33</td>\n",
       "      <td>1</td>\n",
       "      <td>22.705</td>\n",
       "      <td>0</td>\n",
       "      <td>0</td>\n",
       "      <td>1</td>\n",
       "      <td>21984.47061</td>\n",
       "    </tr>\n",
       "    <tr>\n",
       "      <th>4</th>\n",
       "      <td>32</td>\n",
       "      <td>1</td>\n",
       "      <td>28.880</td>\n",
       "      <td>0</td>\n",
       "      <td>0</td>\n",
       "      <td>1</td>\n",
       "      <td>3866.85520</td>\n",
       "    </tr>\n",
       "  </tbody>\n",
       "</table>\n",
       "</div>"
      ],
      "text/plain": [
       "   age  sex     bmi  children  smoker  region      charges\n",
       "0   19    0  27.900         0       1       3  16884.92400\n",
       "1   18    1  33.770         1       0       2   1725.55230\n",
       "2   28    1  33.000         3       0       2   4449.46200\n",
       "3   33    1  22.705         0       0       1  21984.47061\n",
       "4   32    1  28.880         0       0       1   3866.85520"
      ]
     },
     "execution_count": 9,
     "metadata": {},
     "output_type": "execute_result"
    }
   ],
   "source": [
    "for col in df.columns:\n",
    "    if is_numeric_dtype(df[col]):\n",
    "        continue\n",
    "    else:\n",
    "        df[col]=le.fit_transform(df[col])\n",
    "df.head()"
   ]
  },
  {
   "cell_type": "code",
   "execution_count": 10,
   "id": "357df9e8",
   "metadata": {},
   "outputs": [
    {
     "data": {
      "text/plain": [
       "age         0\n",
       "sex         0\n",
       "bmi         0\n",
       "children    0\n",
       "smoker      0\n",
       "region      0\n",
       "charges     0\n",
       "dtype: int64"
      ]
     },
     "execution_count": 10,
     "metadata": {},
     "output_type": "execute_result"
    }
   ],
   "source": [
    "df.isnull().sum()"
   ]
  },
  {
   "cell_type": "code",
   "execution_count": 11,
   "id": "734606b3",
   "metadata": {},
   "outputs": [],
   "source": [
    "df1=df.copy()\n",
    "df2=df.copy()"
   ]
  },
  {
   "cell_type": "code",
   "execution_count": 12,
   "id": "ed10b26d",
   "metadata": {},
   "outputs": [
    {
     "data": {
      "text/html": [
       "<div>\n",
       "<style scoped>\n",
       "    .dataframe tbody tr th:only-of-type {\n",
       "        vertical-align: middle;\n",
       "    }\n",
       "\n",
       "    .dataframe tbody tr th {\n",
       "        vertical-align: top;\n",
       "    }\n",
       "\n",
       "    .dataframe thead th {\n",
       "        text-align: right;\n",
       "    }\n",
       "</style>\n",
       "<table border=\"1\" class=\"dataframe\">\n",
       "  <thead>\n",
       "    <tr style=\"text-align: right;\">\n",
       "      <th></th>\n",
       "      <th>age</th>\n",
       "      <th>sex</th>\n",
       "      <th>bmi</th>\n",
       "      <th>children</th>\n",
       "      <th>smoker</th>\n",
       "      <th>region</th>\n",
       "      <th>charges</th>\n",
       "    </tr>\n",
       "  </thead>\n",
       "  <tbody>\n",
       "    <tr>\n",
       "      <th>age</th>\n",
       "      <td>1.000000</td>\n",
       "      <td>-0.020856</td>\n",
       "      <td>0.109272</td>\n",
       "      <td>0.042469</td>\n",
       "      <td>-0.025019</td>\n",
       "      <td>0.002127</td>\n",
       "      <td>0.299008</td>\n",
       "    </tr>\n",
       "    <tr>\n",
       "      <th>sex</th>\n",
       "      <td>-0.020856</td>\n",
       "      <td>1.000000</td>\n",
       "      <td>0.046371</td>\n",
       "      <td>0.017163</td>\n",
       "      <td>0.076185</td>\n",
       "      <td>0.004588</td>\n",
       "      <td>0.057292</td>\n",
       "    </tr>\n",
       "    <tr>\n",
       "      <th>bmi</th>\n",
       "      <td>0.109272</td>\n",
       "      <td>0.046371</td>\n",
       "      <td>1.000000</td>\n",
       "      <td>0.012759</td>\n",
       "      <td>0.003750</td>\n",
       "      <td>0.157566</td>\n",
       "      <td>0.198341</td>\n",
       "    </tr>\n",
       "    <tr>\n",
       "      <th>children</th>\n",
       "      <td>0.042469</td>\n",
       "      <td>0.017163</td>\n",
       "      <td>0.012759</td>\n",
       "      <td>1.000000</td>\n",
       "      <td>0.007673</td>\n",
       "      <td>0.016569</td>\n",
       "      <td>0.067998</td>\n",
       "    </tr>\n",
       "    <tr>\n",
       "      <th>smoker</th>\n",
       "      <td>-0.025019</td>\n",
       "      <td>0.076185</td>\n",
       "      <td>0.003750</td>\n",
       "      <td>0.007673</td>\n",
       "      <td>1.000000</td>\n",
       "      <td>-0.002181</td>\n",
       "      <td>0.787251</td>\n",
       "    </tr>\n",
       "    <tr>\n",
       "      <th>region</th>\n",
       "      <td>0.002127</td>\n",
       "      <td>0.004588</td>\n",
       "      <td>0.157566</td>\n",
       "      <td>0.016569</td>\n",
       "      <td>-0.002181</td>\n",
       "      <td>1.000000</td>\n",
       "      <td>-0.006208</td>\n",
       "    </tr>\n",
       "    <tr>\n",
       "      <th>charges</th>\n",
       "      <td>0.299008</td>\n",
       "      <td>0.057292</td>\n",
       "      <td>0.198341</td>\n",
       "      <td>0.067998</td>\n",
       "      <td>0.787251</td>\n",
       "      <td>-0.006208</td>\n",
       "      <td>1.000000</td>\n",
       "    </tr>\n",
       "  </tbody>\n",
       "</table>\n",
       "</div>"
      ],
      "text/plain": [
       "               age       sex       bmi  children    smoker    region   charges\n",
       "age       1.000000 -0.020856  0.109272  0.042469 -0.025019  0.002127  0.299008\n",
       "sex      -0.020856  1.000000  0.046371  0.017163  0.076185  0.004588  0.057292\n",
       "bmi       0.109272  0.046371  1.000000  0.012759  0.003750  0.157566  0.198341\n",
       "children  0.042469  0.017163  0.012759  1.000000  0.007673  0.016569  0.067998\n",
       "smoker   -0.025019  0.076185  0.003750  0.007673  1.000000 -0.002181  0.787251\n",
       "region    0.002127  0.004588  0.157566  0.016569 -0.002181  1.000000 -0.006208\n",
       "charges   0.299008  0.057292  0.198341  0.067998  0.787251 -0.006208  1.000000"
      ]
     },
     "execution_count": 12,
     "metadata": {},
     "output_type": "execute_result"
    }
   ],
   "source": [
    "df1.corr()"
   ]
  },
  {
   "cell_type": "markdown",
   "id": "23e2ebfa",
   "metadata": {},
   "source": [
    "## Exploratory Data Analysis\n",
    "1. Distribution of the target variable"
   ]
  },
  {
   "cell_type": "code",
   "execution_count": 13,
   "id": "ec679588",
   "metadata": {},
   "outputs": [
    {
     "data": {
      "image/png": "[encoded data removed]",
      "text/plain": [
       "<Figure size 720x720 with 7 Axes>"
      ]
     },
     "metadata": {
      "needs_background": "light"
     },
     "output_type": "display_data"
    }
   ],
   "source": [
    "fig, axs = plt.subplots(7, figsize = (10,10))\n",
    "plt1 = sns.boxplot(df1['age'], ax = axs[0])\n",
    "plt2 = sns.boxplot(df1['sex'], ax = axs[1])\n",
    "plt3 = sns.boxplot(df1['bmi'], ax = axs[2])\n",
    "plt3 = sns.boxplot(df1['children'], ax = axs[3])\n",
    "plt3 = sns.boxplot(df1['smoker'], ax = axs[4])\n",
    "plt3 = sns.boxplot(df1['region'], ax = axs[5])\n",
    "plt3 = sns.boxplot(df1['charges'], ax = axs[6])\n",
    "plt.tight_layout()"
   ]
  },
  {
   "cell_type": "code",
   "execution_count": 14,
   "id": "31f55daa",
   "metadata": {},
   "outputs": [
    {
     "data": {
      "text/plain": [
       "<AxesSubplot:xlabel='charges', ylabel='Density'>"
      ]
     },
     "execution_count": 14,
     "metadata": {},
     "output_type": "execute_result"
    },
    {
     "data": {
      "image/png": "[encoded data removed]",
      "text/plain": [
       "<Figure size 432x288 with 1 Axes>"
      ]
     },
     "metadata": {
      "needs_background": "light"
     },
     "output_type": "display_data"
    }
   ],
   "source": [
    "sns.distplot(df1['charges'])"
   ]
  },
  {
   "cell_type": "markdown",
   "id": "baa1e043",
   "metadata": {},
   "source": [
    "## Make normally Distributed"
   ]
  },
  {
   "cell_type": "code",
   "execution_count": 15,
   "id": "7fc6facd",
   "metadata": {},
   "outputs": [
    {
     "data": {
      "text/plain": [
       "<AxesSubplot:ylabel='Density'>"
      ]
     },
     "execution_count": 15,
     "metadata": {},
     "output_type": "execute_result"
    },
    {
     "data": {
      "image/png": "[encoded data removed]",
      "text/plain": [
       "<Figure size 432x288 with 1 Axes>"
      ]
     },
     "metadata": {
      "needs_background": "light"
     },
     "output_type": "display_data"
    }
   ],
   "source": [
    "from matplotlib import pyplot as plt\n",
    "from scipy.stats import normaltest\n",
    "import numpy as np\n",
    "from sklearn.preprocessing import PowerTransformer\n",
    "data=np.array([df1.charges])\n",
    "pt = PowerTransformer(method='yeo-johnson')\n",
    "data = data.reshape(-1, 1)\n",
    "pt.fit(data)\n",
    "df1['charges'] = pt.transform(data)\n",
    "sns.distplot([df1.charges])"
   ]
  },
  {
   "cell_type": "code",
   "execution_count": 16,
   "id": "ba2c6cc5",
   "metadata": {},
   "outputs": [
    {
     "data": {
      "image/png": "[encoded data removed]",
      "text/plain": [
       "<Figure size 720x720 with 7 Axes>"
      ]
     },
     "metadata": {
      "needs_background": "light"
     },
     "output_type": "display_data"
    }
   ],
   "source": [
    "fig, axs = plt.subplots(7, figsize = (10,10))\n",
    "plt1 = sns.boxplot(df1['age'], ax = axs[0])\n",
    "plt2 = sns.boxplot(df1['sex'], ax = axs[1])\n",
    "plt3 = sns.boxplot(df1['bmi'], ax = axs[2])\n",
    "plt3 = sns.boxplot(df1['children'], ax = axs[3])\n",
    "plt3 = sns.boxplot(df1['smoker'], ax = axs[4])\n",
    "plt3 = sns.boxplot(df1['region'], ax = axs[5])\n",
    "plt3 = sns.boxplot(df1['charges'], ax = axs[6])\n",
    "plt.tight_layout()"
   ]
  },
  {
   "cell_type": "markdown",
   "id": "6baa8ee9",
   "metadata": {},
   "source": [
    "2. How Sales are related with other variables"
   ]
  },
  {
   "cell_type": "code",
   "execution_count": 17,
   "id": "b4b54bc8",
   "metadata": {},
   "outputs": [
    {
     "data": {
      "image/png": "[encoded data removed]",
      "text/plain": [
       "<Figure size 1296x216 with 6 Axes>"
      ]
     },
     "metadata": {
      "needs_background": "light"
     },
     "output_type": "display_data"
    }
   ],
   "source": [
    "# Before Normally Distributed\n",
    "sns.pairplot(df, x_vars=['age', 'sex', 'bmi','children','smoker','region'], y_vars='charges', height=3, aspect=1, kind='scatter')\n",
    "plt.show()"
   ]
  },
  {
   "cell_type": "markdown",
   "id": "5d3a7069",
   "metadata": {},
   "source": [
    "3. Heatmap"
   ]
  },
  {
   "cell_type": "code",
   "execution_count": 18,
   "id": "345580e2",
   "metadata": {},
   "outputs": [
    {
     "data": {
      "text/plain": [
       "<AxesSubplot:>"
      ]
     },
     "execution_count": 18,
     "metadata": {},
     "output_type": "execute_result"
    },
    {
     "data": {
      "image/png": "[encoded data removed]",
      "text/plain": [
       "<Figure size 720x720 with 2 Axes>"
      ]
     },
     "metadata": {
      "needs_background": "light"
     },
     "output_type": "display_data"
    }
   ],
   "source": [
    "plt.figure(figsize=(10,10))\n",
    "sns.heatmap(df.corr(), annot=True)"
   ]
  },
  {
   "cell_type": "markdown",
   "id": "87ed660a",
   "metadata": {},
   "source": [
    "## After Normally Distributed"
   ]
  },
  {
   "cell_type": "code",
   "execution_count": 19,
   "id": "ad834721",
   "metadata": {},
   "outputs": [
    {
     "data": {
      "image/png": "[encoded data removed]",
      "text/plain": [
       "<Figure size 1296x216 with 6 Axes>"
      ]
     },
     "metadata": {
      "needs_background": "light"
     },
     "output_type": "display_data"
    }
   ],
   "source": [
    "sns.pairplot(df1, x_vars=['age', 'sex', 'bmi','children','smoker','region'], y_vars='charges', height=3, aspect=1, kind='scatter')\n",
    "plt.show()"
   ]
  },
  {
   "cell_type": "markdown",
   "id": "fb590cdd",
   "metadata": {},
   "source": [
    "3. Heatmap"
   ]
  },
  {
   "cell_type": "code",
   "execution_count": 20,
   "id": "04e7f854",
   "metadata": {},
   "outputs": [
    {
     "data": {
      "text/plain": [
       "<AxesSubplot:>"
      ]
     },
     "execution_count": 20,
     "metadata": {},
     "output_type": "execute_result"
    },
    {
     "data": {
      "image/png": "[encoded data removed]",
      "text/plain": [
       "<Figure size 720x720 with 2 Axes>"
      ]
     },
     "metadata": {
      "needs_background": "light"
     },
     "output_type": "display_data"
    }
   ],
   "source": [
    "plt.figure(figsize=(10,10))\n",
    "sns.heatmap(df1.corr(), annot=True)"
   ]
  },
  {
   "cell_type": "code",
   "execution_count": 21,
   "id": "a8f2fb3e",
   "metadata": {},
   "outputs": [],
   "source": [
    "# sep x,y"
   ]
  },
  {
   "cell_type": "code",
   "execution_count": 22,
   "id": "6818fd1d",
   "metadata": {},
   "outputs": [
    {
     "data": {
      "text/html": [
       "<div>\n",
       "<style scoped>\n",
       "    .dataframe tbody tr th:only-of-type {\n",
       "        vertical-align: middle;\n",
       "    }\n",
       "\n",
       "    .dataframe tbody tr th {\n",
       "        vertical-align: top;\n",
       "    }\n",
       "\n",
       "    .dataframe thead th {\n",
       "        text-align: right;\n",
       "    }\n",
       "</style>\n",
       "<table border=\"1\" class=\"dataframe\">\n",
       "  <thead>\n",
       "    <tr style=\"text-align: right;\">\n",
       "      <th></th>\n",
       "      <th>age</th>\n",
       "      <th>sex</th>\n",
       "      <th>bmi</th>\n",
       "      <th>children</th>\n",
       "      <th>smoker</th>\n",
       "      <th>region</th>\n",
       "    </tr>\n",
       "  </thead>\n",
       "  <tbody>\n",
       "    <tr>\n",
       "      <th>0</th>\n",
       "      <td>19</td>\n",
       "      <td>0</td>\n",
       "      <td>27.900</td>\n",
       "      <td>0</td>\n",
       "      <td>1</td>\n",
       "      <td>3</td>\n",
       "    </tr>\n",
       "    <tr>\n",
       "      <th>1</th>\n",
       "      <td>18</td>\n",
       "      <td>1</td>\n",
       "      <td>33.770</td>\n",
       "      <td>1</td>\n",
       "      <td>0</td>\n",
       "      <td>2</td>\n",
       "    </tr>\n",
       "    <tr>\n",
       "      <th>2</th>\n",
       "      <td>28</td>\n",
       "      <td>1</td>\n",
       "      <td>33.000</td>\n",
       "      <td>3</td>\n",
       "      <td>0</td>\n",
       "      <td>2</td>\n",
       "    </tr>\n",
       "    <tr>\n",
       "      <th>3</th>\n",
       "      <td>33</td>\n",
       "      <td>1</td>\n",
       "      <td>22.705</td>\n",
       "      <td>0</td>\n",
       "      <td>0</td>\n",
       "      <td>1</td>\n",
       "    </tr>\n",
       "    <tr>\n",
       "      <th>4</th>\n",
       "      <td>32</td>\n",
       "      <td>1</td>\n",
       "      <td>28.880</td>\n",
       "      <td>0</td>\n",
       "      <td>0</td>\n",
       "      <td>1</td>\n",
       "    </tr>\n",
       "  </tbody>\n",
       "</table>\n",
       "</div>"
      ],
      "text/plain": [
       "   age  sex     bmi  children  smoker  region\n",
       "0   19    0  27.900         0       1       3\n",
       "1   18    1  33.770         1       0       2\n",
       "2   28    1  33.000         3       0       2\n",
       "3   33    1  22.705         0       0       1\n",
       "4   32    1  28.880         0       0       1"
      ]
     },
     "execution_count": 22,
     "metadata": {},
     "output_type": "execute_result"
    }
   ],
   "source": [
    "x=df.drop('charges', axis=1)\n",
    "x.head()"
   ]
  },
  {
   "cell_type": "code",
   "execution_count": 23,
   "id": "39662b46",
   "metadata": {},
   "outputs": [
    {
     "data": {
      "text/plain": [
       "0    16884.92400\n",
       "1     1725.55230\n",
       "2     4449.46200\n",
       "3    21984.47061\n",
       "4     3866.85520\n",
       "Name: charges, dtype: float64"
      ]
     },
     "execution_count": 23,
     "metadata": {},
     "output_type": "execute_result"
    }
   ],
   "source": [
    "y=df['charges']\n",
    "y.head()"
   ]
  },
  {
   "cell_type": "code",
   "execution_count": 24,
   "id": "5467564f",
   "metadata": {},
   "outputs": [],
   "source": [
    "# Train-Test-Split"
   ]
  },
  {
   "cell_type": "code",
   "execution_count": 25,
   "id": "65c91d2b",
   "metadata": {},
   "outputs": [],
   "source": [
    "from sklearn.model_selection import train_test_split as tts"
   ]
  },
  {
   "cell_type": "code",
   "execution_count": 26,
   "id": "659dc11f",
   "metadata": {},
   "outputs": [],
   "source": [
    "x_train,x_test,y_train,y_test= tts(x,y,test_size=.30, random_state=42)"
   ]
  },
  {
   "cell_type": "code",
   "execution_count": 27,
   "id": "72dc0b15",
   "metadata": {},
   "outputs": [
    {
     "data": {
      "text/plain": [
       "(402, 6)"
      ]
     },
     "execution_count": 27,
     "metadata": {},
     "output_type": "execute_result"
    }
   ],
   "source": [
    "x_test.shape"
   ]
  },
  {
   "cell_type": "code",
   "execution_count": 28,
   "id": "625e4265",
   "metadata": {},
   "outputs": [],
   "source": [
    "# Linear Regression"
   ]
  },
  {
   "cell_type": "code",
   "execution_count": 29,
   "id": "dc960eef",
   "metadata": {},
   "outputs": [],
   "source": [
    "from sklearn.linear_model import LinearRegression"
   ]
  },
  {
   "cell_type": "code",
   "execution_count": 30,
   "id": "1a5a91b8",
   "metadata": {},
   "outputs": [],
   "source": [
    "lreg=LinearRegression()"
   ]
  },
  {
   "cell_type": "code",
   "execution_count": 31,
   "id": "d3f6a609",
   "metadata": {},
   "outputs": [
    {
     "data": {
      "text/plain": [
       "LinearRegression()"
      ]
     },
     "execution_count": 31,
     "metadata": {},
     "output_type": "execute_result"
    }
   ],
   "source": [
    "lreg.fit(x_train,y_train)"
   ]
  },
  {
   "cell_type": "code",
   "execution_count": 32,
   "id": "b2dba3ed",
   "metadata": {},
   "outputs": [],
   "source": [
    "# find out the coef , intercept"
   ]
  },
  {
   "cell_type": "code",
   "execution_count": 33,
   "id": "9a9150b0",
   "metadata": {},
   "outputs": [
    {
     "data": {
      "text/plain": [
       "array([  261.62568984,   109.64719595,   344.54483066,   424.37016596,\n",
       "       23620.80252148,  -326.46262527])"
      ]
     },
     "execution_count": 33,
     "metadata": {},
     "output_type": "execute_result"
    }
   ],
   "source": [
    "c=lreg.coef_\n",
    "c"
   ]
  },
  {
   "cell_type": "code",
   "execution_count": 34,
   "id": "7c30c66e",
   "metadata": {},
   "outputs": [
    {
     "data": {
      "text/plain": [
       "[('age', 261.62568984274697),\n",
       " ('sex', 109.64719595059212),\n",
       " ('bmi', 344.544830656035),\n",
       " ('children', 424.37016595762924),\n",
       " ('smoker', 23620.80252148174),\n",
       " ('region', -326.4626252721903)]"
      ]
     },
     "execution_count": 34,
     "metadata": {},
     "output_type": "execute_result"
    }
   ],
   "source": [
    "coef=list(zip(x, lreg.coef_))\n",
    "coef"
   ]
  },
  {
   "cell_type": "code",
   "execution_count": 35,
   "id": "eaa953bb",
   "metadata": {},
   "outputs": [
    {
     "data": {
      "text/plain": [
       "-12364.391322279214"
      ]
     },
     "execution_count": 35,
     "metadata": {},
     "output_type": "execute_result"
    }
   ],
   "source": [
    "intercept=lreg.intercept_\n",
    "intercept"
   ]
  },
  {
   "cell_type": "code",
   "execution_count": 36,
   "id": "75b564f7",
   "metadata": {},
   "outputs": [
    {
     "data": {
      "text/plain": [
       "array([ 8.93142116e+03,  7.07090670e+03,  3.69370805e+04,  9.59699214e+03,\n",
       "        2.70083549e+04,  1.08664849e+04,  3.74610217e+01,  1.72228092e+04,\n",
       "        9.18308115e+02,  1.13965537e+04,  2.79154456e+04,  9.53381323e+03,\n",
       "        5.18928014e+03,  3.86124990e+04,  4.05094490e+04,  3.72748566e+04,\n",
       "        1.53562559e+04,  3.59449407e+04,  9.10631783e+03,  3.14429410e+04,\n",
       "        3.66298253e+03,  1.00966745e+04,  2.21091896e+03,  7.10598084e+03,\n",
       "        1.13521417e+04,  1.30231210e+04,  1.44472857e+04,  6.12031303e+03,\n",
       "        9.94564893e+03,  2.18617424e+03,  8.91389260e+03,  1.31869496e+04,\n",
       "        4.49110116e+03,  3.30469662e+03,  4.32885102e+03,  1.32330189e+04,\n",
       "        1.67071398e+03,  8.63238607e+03,  3.32727214e+04,  3.26840062e+04,\n",
       "        3.60294190e+03,  4.40040903e+03,  1.40663345e+04,  1.16268203e+04,\n",
       "        8.89219642e+03,  1.21011367e+04,  5.23906853e+03,  2.84241293e+03,\n",
       "        3.56294259e+04,  9.27854339e+03,  1.59720792e+04,  2.34524488e+03,\n",
       "        1.24695907e+04,  1.45575199e+03,  1.36060478e+04,  1.27386152e+04,\n",
       "        4.36613796e+03,  3.22719994e+04,  1.32349447e+04,  1.29578859e+04,\n",
       "        1.40951649e+04,  1.05369676e+04,  1.64362140e+04,  7.75461795e+03,\n",
       "        1.18779662e+04,  3.99480572e+03,  2.64330928e+04,  1.10659605e+04,\n",
       "        2.03158533e+03,  6.13115399e+03,  1.08767882e+04,  1.16479288e+04,\n",
       "        1.10243957e+04,  9.28705268e+03,  1.21416074e+04,  6.70998959e+03,\n",
       "        7.30925330e+03,  1.07977596e+04,  6.52692249e+03,  8.55728949e+03,\n",
       "        3.80852363e+03,  3.67844754e+04,  6.14441916e+03,  3.07570013e+04,\n",
       "        3.50094357e+04,  3.54124821e+04,  7.09149212e+03,  1.31006630e+04,\n",
       "        9.98014918e+03,  1.45154809e+04,  1.78305771e+04,  3.52686158e+04,\n",
       "        3.29784225e+04,  6.22933443e+03,  3.20886288e+04,  9.43560516e+03,\n",
       "        2.94772073e+04,  3.58517664e+03,  2.82020377e+04,  5.72599261e+03,\n",
       "        5.36908283e+03,  1.58445451e+03,  1.16903588e+04,  1.51280855e+04,\n",
       "        1.18546309e+04,  4.35394125e+03,  1.00266822e+04,  3.17802817e+04,\n",
       "       -1.48104195e+02,  3.27772034e+04,  3.14119000e+03,  1.03506397e+04,\n",
       "        1.43957986e+04,  3.15739258e+04,  1.14847275e+04,  3.79273137e+03,\n",
       "        1.32950567e+04,  3.15750153e+04,  8.12355507e+03,  3.28730085e+03,\n",
       "        8.41136792e+03,  1.07776201e+04,  1.53125155e+04,  5.72672481e+03,\n",
       "        3.69907719e+03,  1.02751918e+04,  1.09365360e+04,  1.12670571e+04,\n",
       "        1.45465772e+04,  7.54959534e+03,  5.32238745e+03,  9.34711885e+03,\n",
       "        9.34370053e+03,  1.25996636e+04,  8.16069315e+03,  1.54087671e+04,\n",
       "        8.52238619e+03,  3.17112944e+04,  3.58615001e+04,  3.15416516e+04,\n",
       "        5.99075866e+03,  1.26637568e+04,  6.09837646e+03,  1.46914670e+04,\n",
       "        2.50155681e+03,  3.28754173e+04,  6.36065967e+03,  4.79287176e+03,\n",
       "        1.44614304e+04,  6.85575464e+03,  3.87691431e+04,  3.01513756e+03,\n",
       "        5.97616737e+03,  3.17494933e+04,  1.16517535e+04,  8.58762133e+03,\n",
       "        1.50293832e+04,  9.82274269e+03,  2.69822534e+04,  3.35479130e+04,\n",
       "        1.46237783e+04,  1.57471099e+03,  1.31790001e+04,  2.20744054e+03,\n",
       "        5.32298532e+03,  1.17395267e+04,  3.97487819e+04,  3.65786298e+04,\n",
       "        3.41034394e+04,  3.63657142e+03,  7.23905466e+03,  8.48169987e+03,\n",
       "        1.26452175e+04,  4.88932998e+03,  1.74915089e+03,  3.21887949e+04,\n",
       "        2.49014504e+04,  1.77835495e+04,  2.62715499e+04,  1.02083595e+04,\n",
       "        3.72965033e+04, -6.52360342e+02,  6.88231317e+03,  7.58702522e+03,\n",
       "        4.36293824e+03,  5.07700999e+03,  5.96907983e+03,  4.04888331e+03,\n",
       "        1.53182327e+04,  1.13331480e+04,  6.83898258e+03,  2.39352108e+03,\n",
       "        1.37792303e+03,  3.18527846e+04,  1.66917992e+04,  1.20745723e+04,\n",
       "        1.14919812e+03,  1.25625910e+04,  1.41156831e+03,  8.55785296e+03,\n",
       "        1.77064557e+03,  3.40708782e+04,  1.10256141e+04,  2.63243650e+03,\n",
       "        2.55079532e+04,  2.61948641e+04,  9.59950672e+03,  1.66993572e+03,\n",
       "        1.34838387e+04,  7.87765692e+02,  1.03599201e+04,  1.05819030e+04,\n",
       "        1.70814008e+04,  2.68387842e+04,  7.00938297e+03,  5.10751649e+03,\n",
       "        5.78098372e+03,  1.32803923e+04,  1.11319095e+04,  8.35083139e+03,\n",
       "        5.11042689e+03,  1.25467353e+04,  1.40772626e+04,  3.59251544e+04,\n",
       "        4.23789294e+03,  2.89538327e+04, -1.27526758e+03,  2.92930773e+03,\n",
       "        1.12062922e+04,  1.57880970e+04,  5.28294712e+03,  6.87109043e+03,\n",
       "        3.56790897e+03,  3.12149215e+04,  7.23091139e+03,  1.26084664e+04,\n",
       "        5.70762316e+03,  9.50312570e+03,  3.63497801e+04,  4.48337473e+03,\n",
       "        9.65037954e+03,  3.10538973e+04,  5.73141678e+03,  4.51810286e+03,\n",
       "        1.06359747e+03,  4.92434635e+03,  4.30546329e+03,  6.41542240e+03,\n",
       "        1.88165410e+04, -1.58767500e+03,  2.08726159e+03,  1.06664386e+04,\n",
       "        2.87099675e+03,  1.02075046e+04,  3.66954356e+03,  5.05237573e+03,\n",
       "        1.24207550e+04,  6.33066928e+03,  8.32234154e+03,  7.52601017e+03,\n",
       "        8.93227534e+03,  1.05347636e+04,  2.78205086e+04,  3.92856297e+04,\n",
       "        1.18447191e+04,  7.76727113e+03,  4.10661436e+04,  1.22069344e+04,\n",
       "        7.06633749e+03,  8.31134638e+03,  9.15260379e+03,  1.11327147e+04,\n",
       "        1.01074213e+04,  1.78630232e+04,  7.84425363e+02,  2.35054301e+04,\n",
       "        1.28402370e+04,  3.32540123e+04,  5.21396476e+03,  1.33702622e+04,\n",
       "        1.04393089e+04,  1.79306010e+04,  9.81175719e+03,  1.15961440e+04,\n",
       "        3.21617330e+04,  3.31986358e+03,  1.37496402e+04,  3.95683833e+04,\n",
       "        5.54333858e+03,  6.23384509e+03,  3.34274209e+03,  1.13602421e+04,\n",
       "        2.53553476e+04,  1.42751792e+04,  9.36322233e+03,  1.01541781e+04,\n",
       "        1.36846064e+04,  7.04846551e+02,  2.40293110e+03,  3.08256247e+04,\n",
       "        2.98939248e+04,  1.37971445e+04,  3.66840086e+03,  2.54033560e+04,\n",
       "        1.36099681e+04,  3.08035817e+04,  3.40774884e+03,  3.91303562e+04,\n",
       "        1.13520181e+04,  4.88112196e+03,  6.63012225e+03,  2.57264447e+03,\n",
       "        2.58941048e+04,  1.43159019e+04,  3.67727374e+02,  1.26690993e+04,\n",
       "        1.28517230e+04,  1.50524315e+04,  3.51550959e+04,  1.44614312e+04,\n",
       "        3.16849510e+04,  9.88814606e+03,  1.82342812e+04,  5.85771654e+03,\n",
       "        8.99261803e+03,  9.27620101e+03,  1.54708619e+04,  8.98736496e+03,\n",
       "        8.41456605e+03,  1.50608819e+04,  1.28253602e+04,  1.49321014e+04,\n",
       "        7.38658206e+03,  2.61065024e+04,  9.37846298e+03,  1.84801777e+03,\n",
       "        4.29082654e+03,  1.42115781e+04,  3.58650882e+04,  9.49708847e+03,\n",
       "        1.28255300e+04,  5.29979460e+03,  4.97447308e+03,  3.81342220e+03,\n",
       "        2.72083867e+03,  9.03161410e+03,  7.19875937e+03,  2.49342629e+03,\n",
       "        1.30461468e+04,  8.90160139e+03,  5.81259221e+03,  5.38198278e+02,\n",
       "        9.31275778e+03,  4.97277878e+03,  3.31106597e+04,  2.85736717e+04,\n",
       "        3.70597724e+04,  5.48953746e+03,  8.72326591e+03,  8.39711736e+03,\n",
       "        3.36207746e+03,  3.16373339e+04,  7.14468257e+03,  2.84245186e+04,\n",
       "        3.62304876e+04,  7.13435976e+03,  1.28623795e+04,  9.91674109e+03,\n",
       "        8.34333364e+03,  1.27928552e+04,  3.01641764e+04,  1.71595116e+04,\n",
       "        1.20106593e+04,  4.00580087e+03, -1.43018949e+03,  1.22043703e+04,\n",
       "        3.07650613e+04,  1.31623933e+04,  1.12000279e+04,  7.95694801e+03,\n",
       "        3.61330671e+03,  7.02240292e+03,  7.06987605e+03,  1.05760938e+04,\n",
       "        3.37742354e+04,  3.90910529e+04,  1.18223109e+04,  8.34561825e+03,\n",
       "        1.66015909e+04,  1.57702432e+04,  9.51209017e+03,  9.18903542e+03,\n",
       "        8.93273210e+03,  2.58258875e+03,  1.00252352e+04,  3.92756091e+03,\n",
       "        1.05130405e+04,  1.61335516e+04,  6.74383693e+03,  2.06620349e+03,\n",
       "        1.46977981e+04,  2.73823510e+00])"
      ]
     },
     "execution_count": 36,
     "metadata": {},
     "output_type": "execute_result"
    }
   ],
   "source": [
    "pred = lreg.predict(x_test)\n",
    "pred"
   ]
  },
  {
   "cell_type": "code",
   "execution_count": 37,
   "id": "482cb798",
   "metadata": {},
   "outputs": [],
   "source": [
    "from sklearn.metrics import r2_score,mean_squared_error, mean_absolute_error"
   ]
  },
  {
   "cell_type": "code",
   "execution_count": 38,
   "id": "807267f6",
   "metadata": {},
   "outputs": [
    {
     "data": {
      "text/plain": [
       "33805466.89868861"
      ]
     },
     "execution_count": 38,
     "metadata": {},
     "output_type": "execute_result"
    }
   ],
   "source": [
    "mse=mean_squared_error(y_test,pred)\n",
    "mse"
   ]
  },
  {
   "cell_type": "code",
   "execution_count": 39,
   "id": "a38095bb",
   "metadata": {},
   "outputs": [
    {
     "data": {
      "text/plain": [
       "4155.239843059381"
      ]
     },
     "execution_count": 39,
     "metadata": {},
     "output_type": "execute_result"
    }
   ],
   "source": [
    "mae=mean_absolute_error(y_test,pred)\n",
    "mae"
   ]
  },
  {
   "cell_type": "code",
   "execution_count": 40,
   "id": "9bee94b1",
   "metadata": {},
   "outputs": [
    {
     "data": {
      "text/plain": [
       "0.7694415927057694"
      ]
     },
     "execution_count": 40,
     "metadata": {},
     "output_type": "execute_result"
    }
   ],
   "source": [
    "r_score=r2_score(y_test,pred)\n",
    "r_score"
   ]
  },
  {
   "cell_type": "code",
   "execution_count": 41,
   "id": "a3759b71",
   "metadata": {},
   "outputs": [
    {
     "data": {
      "text/plain": [
       "0.7694415927057694"
      ]
     },
     "execution_count": 41,
     "metadata": {},
     "output_type": "execute_result"
    }
   ],
   "source": [
    "lreg.score(x_test,y_test)"
   ]
  },
  {
   "cell_type": "code",
   "execution_count": 42,
   "id": "86308025",
   "metadata": {},
   "outputs": [
    {
     "data": {
      "text/plain": [
       "0.7422571320172101"
      ]
     },
     "execution_count": 42,
     "metadata": {},
     "output_type": "execute_result"
    }
   ],
   "source": [
    "lreg.score(x_train,y_train)"
   ]
  },
  {
   "cell_type": "code",
   "execution_count": 43,
   "id": "af13d7a6",
   "metadata": {},
   "outputs": [
    {
     "data": {
      "text/html": [
       "<div>\n",
       "<style scoped>\n",
       "    .dataframe tbody tr th:only-of-type {\n",
       "        vertical-align: middle;\n",
       "    }\n",
       "\n",
       "    .dataframe tbody tr th {\n",
       "        vertical-align: top;\n",
       "    }\n",
       "\n",
       "    .dataframe thead th {\n",
       "        text-align: right;\n",
       "    }\n",
       "</style>\n",
       "<table border=\"1\" class=\"dataframe\">\n",
       "  <thead>\n",
       "    <tr style=\"text-align: right;\">\n",
       "      <th></th>\n",
       "      <th>Actual value</th>\n",
       "      <th>Predicted value</th>\n",
       "    </tr>\n",
       "  </thead>\n",
       "  <tbody>\n",
       "    <tr>\n",
       "      <th>764</th>\n",
       "      <td>9095.06825</td>\n",
       "      <td>8931.421164</td>\n",
       "    </tr>\n",
       "    <tr>\n",
       "      <th>887</th>\n",
       "      <td>5272.17580</td>\n",
       "      <td>7070.906703</td>\n",
       "    </tr>\n",
       "    <tr>\n",
       "      <th>890</th>\n",
       "      <td>29330.98315</td>\n",
       "      <td>36937.080496</td>\n",
       "    </tr>\n",
       "    <tr>\n",
       "      <th>1293</th>\n",
       "      <td>9301.89355</td>\n",
       "      <td>9596.992144</td>\n",
       "    </tr>\n",
       "    <tr>\n",
       "      <th>259</th>\n",
       "      <td>33750.29180</td>\n",
       "      <td>27008.354871</td>\n",
       "    </tr>\n",
       "    <tr>\n",
       "      <th>...</th>\n",
       "      <td>...</td>\n",
       "      <td>...</td>\n",
       "    </tr>\n",
       "    <tr>\n",
       "      <th>701</th>\n",
       "      <td>9541.69555</td>\n",
       "      <td>16133.551618</td>\n",
       "    </tr>\n",
       "    <tr>\n",
       "      <th>672</th>\n",
       "      <td>4399.73100</td>\n",
       "      <td>6743.836928</td>\n",
       "    </tr>\n",
       "    <tr>\n",
       "      <th>1163</th>\n",
       "      <td>2200.83085</td>\n",
       "      <td>2066.203492</td>\n",
       "    </tr>\n",
       "    <tr>\n",
       "      <th>1103</th>\n",
       "      <td>11363.28320</td>\n",
       "      <td>14697.798124</td>\n",
       "    </tr>\n",
       "    <tr>\n",
       "      <th>1295</th>\n",
       "      <td>1964.78000</td>\n",
       "      <td>2.738235</td>\n",
       "    </tr>\n",
       "  </tbody>\n",
       "</table>\n",
       "<p>402 rows × 2 columns</p>\n",
       "</div>"
      ],
      "text/plain": [
       "      Actual value  Predicted value\n",
       "764     9095.06825      8931.421164\n",
       "887     5272.17580      7070.906703\n",
       "890    29330.98315     36937.080496\n",
       "1293    9301.89355      9596.992144\n",
       "259    33750.29180     27008.354871\n",
       "...            ...              ...\n",
       "701     9541.69555     16133.551618\n",
       "672     4399.73100      6743.836928\n",
       "1163    2200.83085      2066.203492\n",
       "1103   11363.28320     14697.798124\n",
       "1295    1964.78000         2.738235\n",
       "\n",
       "[402 rows x 2 columns]"
      ]
     },
     "execution_count": 43,
     "metadata": {},
     "output_type": "execute_result"
    }
   ],
   "source": [
    "mlreg_diff = pd.DataFrame({'Actual value': y_test, 'Predicted value': pred})\n",
    "mlreg_diff"
   ]
  },
  {
   "cell_type": "code",
   "execution_count": 44,
   "id": "8a5e600b",
   "metadata": {},
   "outputs": [
    {
     "name": "stdout",
     "output_type": "stream",
     "text": [
      "r2 score: 0.7694415927057694\n",
      "R squared: 75.05\n",
      "Mean Absolute Error: 4155.239843059381\n",
      "Mean Square Error: 33805466.89868861\n",
      "Root Mean Square Error: 5814.246890069995\n"
     ]
    }
   ],
   "source": [
    "#Model Evaluation\n",
    "\n",
    "rootMeanSqErr = np.sqrt(mse)\n",
    "print('r2 score:', r_score)\n",
    "print('R squared: {:.2f}'.format(lreg.score(x,y)*100))\n",
    "print('Mean Absolute Error:', mae)\n",
    "print('Mean Square Error:', mse)\n",
    "print('Root Mean Square Error:', rootMeanSqErr)"
   ]
  },
  {
   "cell_type": "markdown",
   "id": "bd34028b",
   "metadata": {},
   "source": [
    "# Again Calculate r2_score After Normally Distributed"
   ]
  },
  {
   "cell_type": "code",
   "execution_count": 45,
   "id": "a18fe7f9",
   "metadata": {},
   "outputs": [],
   "source": [
    "# sep X,Y"
   ]
  },
  {
   "cell_type": "code",
   "execution_count": 46,
   "id": "7e3ef14f",
   "metadata": {},
   "outputs": [
    {
     "data": {
      "text/html": [
       "<div>\n",
       "<style scoped>\n",
       "    .dataframe tbody tr th:only-of-type {\n",
       "        vertical-align: middle;\n",
       "    }\n",
       "\n",
       "    .dataframe tbody tr th {\n",
       "        vertical-align: top;\n",
       "    }\n",
       "\n",
       "    .dataframe thead th {\n",
       "        text-align: right;\n",
       "    }\n",
       "</style>\n",
       "<table border=\"1\" class=\"dataframe\">\n",
       "  <thead>\n",
       "    <tr style=\"text-align: right;\">\n",
       "      <th></th>\n",
       "      <th>age</th>\n",
       "      <th>sex</th>\n",
       "      <th>bmi</th>\n",
       "      <th>children</th>\n",
       "      <th>smoker</th>\n",
       "      <th>region</th>\n",
       "    </tr>\n",
       "  </thead>\n",
       "  <tbody>\n",
       "    <tr>\n",
       "      <th>0</th>\n",
       "      <td>19</td>\n",
       "      <td>0</td>\n",
       "      <td>27.900</td>\n",
       "      <td>0</td>\n",
       "      <td>1</td>\n",
       "      <td>3</td>\n",
       "    </tr>\n",
       "    <tr>\n",
       "      <th>1</th>\n",
       "      <td>18</td>\n",
       "      <td>1</td>\n",
       "      <td>33.770</td>\n",
       "      <td>1</td>\n",
       "      <td>0</td>\n",
       "      <td>2</td>\n",
       "    </tr>\n",
       "    <tr>\n",
       "      <th>2</th>\n",
       "      <td>28</td>\n",
       "      <td>1</td>\n",
       "      <td>33.000</td>\n",
       "      <td>3</td>\n",
       "      <td>0</td>\n",
       "      <td>2</td>\n",
       "    </tr>\n",
       "    <tr>\n",
       "      <th>3</th>\n",
       "      <td>33</td>\n",
       "      <td>1</td>\n",
       "      <td>22.705</td>\n",
       "      <td>0</td>\n",
       "      <td>0</td>\n",
       "      <td>1</td>\n",
       "    </tr>\n",
       "    <tr>\n",
       "      <th>4</th>\n",
       "      <td>32</td>\n",
       "      <td>1</td>\n",
       "      <td>28.880</td>\n",
       "      <td>0</td>\n",
       "      <td>0</td>\n",
       "      <td>1</td>\n",
       "    </tr>\n",
       "  </tbody>\n",
       "</table>\n",
       "</div>"
      ],
      "text/plain": [
       "   age  sex     bmi  children  smoker  region\n",
       "0   19    0  27.900         0       1       3\n",
       "1   18    1  33.770         1       0       2\n",
       "2   28    1  33.000         3       0       2\n",
       "3   33    1  22.705         0       0       1\n",
       "4   32    1  28.880         0       0       1"
      ]
     },
     "execution_count": 46,
     "metadata": {},
     "output_type": "execute_result"
    }
   ],
   "source": [
    "X=df1.drop('charges', axis=1)\n",
    "X.head()"
   ]
  },
  {
   "cell_type": "code",
   "execution_count": 47,
   "id": "eecc71f7",
   "metadata": {},
   "outputs": [
    {
     "data": {
      "text/plain": [
       "0    0.681663\n",
       "1   -1.748842\n",
       "2   -0.768811\n",
       "3    0.978834\n",
       "4   -0.916592\n",
       "Name: charges, dtype: float64"
      ]
     },
     "execution_count": 47,
     "metadata": {},
     "output_type": "execute_result"
    }
   ],
   "source": [
    "Y=df1['charges']\n",
    "Y.head()"
   ]
  },
  {
   "cell_type": "markdown",
   "id": "091bbaa4",
   "metadata": {},
   "source": [
    "# Train-Test-Split"
   ]
  },
  {
   "cell_type": "code",
   "execution_count": 48,
   "id": "2f2ec062",
   "metadata": {},
   "outputs": [
    {
     "data": {
      "text/plain": [
       "(402, 6)"
      ]
     },
     "execution_count": 48,
     "metadata": {},
     "output_type": "execute_result"
    }
   ],
   "source": [
    "from sklearn.model_selection import train_test_split as tts\n",
    "\n",
    "xtrain,xtest,ytrain,ytest= tts(X,Y,test_size=.30, random_state=42)\n",
    "xtest.shape"
   ]
  },
  {
   "cell_type": "markdown",
   "id": "0a78378f",
   "metadata": {},
   "source": [
    "# Linear Regression"
   ]
  },
  {
   "cell_type": "code",
   "execution_count": 49,
   "id": "60d31e0e",
   "metadata": {},
   "outputs": [],
   "source": [
    "from sklearn.linear_model import LinearRegression\n",
    "lreg=LinearRegression()"
   ]
  },
  {
   "cell_type": "code",
   "execution_count": 50,
   "id": "52fa8d01",
   "metadata": {},
   "outputs": [
    {
     "data": {
      "text/plain": [
       "LinearRegression()"
      ]
     },
     "execution_count": 50,
     "metadata": {},
     "output_type": "execute_result"
    }
   ],
   "source": [
    "lreg.fit(xtrain,ytrain)"
   ]
  },
  {
   "cell_type": "code",
   "execution_count": 51,
   "id": "b8839200",
   "metadata": {},
   "outputs": [],
   "source": [
    "# find out the coef , intercept"
   ]
  },
  {
   "cell_type": "code",
   "execution_count": 52,
   "id": "f27b2861",
   "metadata": {},
   "outputs": [
    {
     "data": {
      "text/plain": [
       "array([ 0.03699302, -0.07901972,  0.01463942,  0.0997564 ,  1.71011539,\n",
       "       -0.04923741])"
      ]
     },
     "execution_count": 52,
     "metadata": {},
     "output_type": "execute_result"
    }
   ],
   "source": [
    "coef=lreg.coef_\n",
    "coef"
   ]
  },
  {
   "cell_type": "code",
   "execution_count": 53,
   "id": "2be4c465",
   "metadata": {},
   "outputs": [
    {
     "name": "stdout",
     "output_type": "stream",
     "text": [
      "[('age', 0.03699302202529917), ('sex', -0.07901972288487222), ('bmi', 0.01463941657029705), ('children', 0.09975640372373194), ('smoker', 1.7101153904185051), ('region', -0.04923741294407897)]\n"
     ]
    }
   ],
   "source": [
    "print(list(zip(X, lreg.coef_)))"
   ]
  },
  {
   "cell_type": "code",
   "execution_count": 54,
   "id": "444107af",
   "metadata": {},
   "outputs": [
    {
     "data": {
      "text/plain": [
       "-2.2394398815699454"
      ]
     },
     "execution_count": 54,
     "metadata": {},
     "output_type": "execute_result"
    }
   ],
   "source": [
    "intercept=lreg.intercept_\n",
    "intercept"
   ]
  },
  {
   "cell_type": "code",
   "execution_count": 55,
   "id": "7ec1b376",
   "metadata": {},
   "outputs": [
    {
     "data": {
      "text/plain": [
       "array([-6.69377083e-03, -5.17453216e-01,  2.18257222e+00,  1.01429865e-02,\n",
       "        5.12575968e-01, -4.80621720e-01, -1.25620341e+00,  5.54763477e-01,\n",
       "       -9.50519752e-01,  1.64235134e-01,  1.01020518e+00, -2.03650554e-01,\n",
       "       -7.32180329e-01,  1.91410848e+00,  2.11180721e+00,  1.80142468e+00,\n",
       "        2.99066478e-01,  1.74687095e+00, -1.25843656e-01,  1.40571876e+00,\n",
       "       -6.92682218e-01, -1.98714109e-01, -1.31826616e+00, -8.42871420e-01,\n",
       "        2.71903412e-01,  2.36599441e-01,  3.46272723e-01, -5.45558225e-01,\n",
       "        8.81534418e-02, -1.30982802e+00, -7.94707190e-02,  2.85824393e-01,\n",
       "       -1.05058479e+00, -5.87561062e-01, -9.65414370e-01, -7.10516367e-02,\n",
       "       -1.12406166e+00, -2.58977214e-01,  1.79808077e+00,  1.23999362e+00,\n",
       "       -7.66815369e-01, -9.95148420e-01,  3.08304630e-01,  1.87610828e-01,\n",
       "       -4.73292754e-01,  2.18756816e-01, -8.19987445e-01, -8.07319536e-01,\n",
       "        1.70972993e+00, -5.08630738e-01,  5.24056502e-01, -1.22134397e+00,\n",
       "       -1.02835375e-01, -1.27013045e+00,  1.58709916e-01,  2.00775970e-01,\n",
       "       -8.35949398e-01,  1.29192080e+00,  2.43007846e-01,  2.07950887e-01,\n",
       "        4.08941714e-01, -3.97359597e-01,  6.18154650e-01, -1.69691739e-01,\n",
       "        1.36189250e-01, -7.73443005e-01,  7.96055630e-01,  1.92452524e-01,\n",
       "       -9.34488876e-01, -1.07406840e+00, -2.70577980e-01,  1.34605094e-01,\n",
       "       -7.43178960e-02, -3.01255032e-01, -1.32308863e-01, -5.68154571e-01,\n",
       "       -5.43353410e-01,  1.58432974e-01, -6.19496536e-01, -4.69639122e-02,\n",
       "       -1.18914224e+00,  2.07602238e+00, -5.67607994e-01,  1.05785523e+00,\n",
       "        9.76524372e-01,  1.70720632e+00, -5.45708177e-01,  1.46726072e-01,\n",
       "       -4.92540425e-02,  3.29530182e-01,  8.11328866e-01,  2.07631428e+00,\n",
       "        1.69155871e+00, -5.67456443e-01,  1.13706623e+00, -2.78555919e-01,\n",
       "        1.00023239e+00, -1.11495352e+00,  1.17679337e+00, -4.01657393e-01,\n",
       "       -6.63297602e-01, -1.26120556e+00, -3.10837616e-01,  4.33189539e-01,\n",
       "        2.84410138e-01, -1.13599617e+00, -1.40444959e-01,  1.55977493e+00,\n",
       "       -1.33827693e+00,  1.76753711e+00, -1.27873974e+00, -6.74187401e-01,\n",
       "        4.80155699e-01,  1.29548484e+00,  1.23575843e-01, -1.14345425e+00,\n",
       "        3.19735834e-01,  1.50404845e+00, -3.18766055e-01, -1.01656667e+00,\n",
       "       -3.95160128e-01, -1.50802260e-01,  4.45570879e-01, -1.00413242e+00,\n",
       "       -7.04282982e-01, -8.84714722e-02, -1.25709550e-01,  3.06486748e-02,\n",
       "        3.59981055e-01, -9.52556975e-01, -7.30619681e-01, -3.20484672e-01,\n",
       "       -3.18676651e-01, -1.42838270e-02, -4.64251398e-01,  3.59295215e-01,\n",
       "       -5.81723641e-01,  1.23683297e+00,  1.61933634e+00,  1.29001857e+00,\n",
       "       -5.63347787e-01,  1.43700055e-01, -9.36587723e-01,  3.83816765e-01,\n",
       "       -1.11529030e+00,  1.63088350e+00, -5.45489301e-01, -8.14361415e-01,\n",
       "        4.29891212e-01, -6.25157463e-01,  2.22094637e+00, -1.02617739e+00,\n",
       "       -1.14879444e+00,  1.16751247e+00, -1.89338121e-01, -5.53075086e-01,\n",
       "        4.45179427e-01, -6.95266039e-02,  5.59779184e-01,  1.45093995e+00,\n",
       "        5.71567636e-01, -1.10916169e+00,  4.75663438e-01, -1.10880800e+00,\n",
       "       -8.37354204e-01, -1.19421190e-01,  2.20542966e+00,  1.98620457e+00,\n",
       "        1.57805087e+00, -1.01875225e+00, -1.62918064e-01, -3.68886819e-01,\n",
       "       -2.51287432e-01, -7.41483662e-01, -1.17657745e+00,  1.50359697e+00,\n",
       "        3.52322805e-01,  5.43222562e-01,  1.06479684e+00,  1.59266637e-01,\n",
       "        2.20733331e+00, -1.11666823e+00, -2.42775196e-01, -5.36284629e-01,\n",
       "       -6.16786290e-01, -9.12693420e-01, -7.11993255e-01, -8.71849621e-01,\n",
       "        1.63972090e-01,  7.16258651e-02, -7.72940771e-01, -1.14660690e+00,\n",
       "       -1.08625172e+00,  1.12165086e+00,  4.45081481e-01,  4.79335209e-02,\n",
       "       -1.12724137e+00,  3.80482466e-01, -1.18832924e+00, -1.62731955e-01,\n",
       "       -1.00142449e+00,  1.66658996e+00, -4.60275961e-01, -1.06617310e+00,\n",
       "        6.04739468e-01,  7.33337838e-01, -1.31418925e-01, -8.64034814e-01,\n",
       "       -5.34967978e-02, -1.05807030e+00,  1.40679037e-01,  2.21497161e-01,\n",
       "        3.65468694e-01,  6.51142145e-01, -3.72154510e-01, -7.20770316e-01,\n",
       "       -6.03532270e-01,  5.51357766e-01,  2.40771503e-01, -4.42588092e-01,\n",
       "       -9.88903872e-01, -1.61454305e-01, -6.77513512e-02,  1.64056991e+00,\n",
       "       -1.08377887e+00,  7.92762294e-01, -1.38271272e+00, -1.21700985e+00,\n",
       "        9.08777628e-03,  4.80865592e-01, -1.10061847e+00, -1.37791702e-01,\n",
       "       -7.54712027e-01,  1.24161927e+00, -9.66264464e-02, -6.48138505e-02,\n",
       "       -7.54373651e-01, -4.13260813e-01,  1.71641366e+00, -1.10871485e+00,\n",
       "        2.48555143e-01,  1.03595328e+00, -8.59011463e-01, -8.38328387e-01,\n",
       "       -1.29628229e+00, -9.51104969e-01, -7.49250741e-01, -7.21497113e-01,\n",
       "        7.68897181e-01, -1.40893260e+00, -1.21396495e+00, -1.70410346e-01,\n",
       "       -9.73650556e-01,  1.94596604e-01, -1.02015404e+00, -8.41504357e-01,\n",
       "        1.76488617e-01, -8.09626228e-01, -1.76195061e-01, -3.46957979e-01,\n",
       "       -8.96823409e-02,  2.76642344e-01,  7.18731548e-01,  2.13743848e+00,\n",
       "        2.54670931e-01, -4.02698714e-01,  2.06387861e+00,  9.99164533e-02,\n",
       "       -9.54291133e-02, -1.44737235e-01, -5.03416662e-02,  1.06019947e-01,\n",
       "        3.22523380e-01,  5.20722562e-01, -1.21756781e+00,  3.73229201e-01,\n",
       "       -1.35399175e-01,  1.36082205e+00, -5.32968329e-01,  7.51562469e-02,\n",
       "       -3.79346744e-02,  7.03881782e-01,  1.11986136e-01, -4.65835055e-02,\n",
       "        1.26416166e+00, -1.00978855e+00,  2.00831007e-01,  2.02825853e+00,\n",
       "       -7.04205869e-01, -9.21342251e-01, -1.10627531e+00,  5.37980178e-02,\n",
       "        9.31850635e-01,  3.77760283e-01,  1.02417796e-01,  3.10219622e-02,\n",
       "        1.44360972e-01, -1.03571670e+00, -1.11343259e+00,  7.68786064e-01,\n",
       "        9.52600326e-01, -1.09625069e-01, -9.38477316e-01,  5.26106209e-01,\n",
       "        3.99957349e-01,  9.23110092e-01, -1.05175969e+00,  2.15671780e+00,\n",
       "       -3.42900254e-01, -1.11164344e+00, -3.87615299e-01, -1.21168195e+00,\n",
       "        6.20493045e-01,  3.92443875e-01, -1.26310299e+00,  3.60634311e-01,\n",
       "        1.00782528e-01,  3.90963899e-01,  1.56019221e+00,  4.77549815e-01,\n",
       "        1.42634057e+00, -9.39240260e-02,  7.46306535e-01, -7.96947098e-01,\n",
       "       -1.30674663e-01, -1.81821789e-01,  5.86627185e-01, -1.70517719e-02,\n",
       "       -7.09640441e-01,  1.85158286e-01,  3.83457366e-01,  3.37538932e-01,\n",
       "       -6.28479827e-01,  4.38890730e-01, -4.09068101e-01, -1.13356909e+00,\n",
       "       -7.14506350e-01,  1.01413522e-01,  1.65979955e+00, -6.28811609e-02,\n",
       "        4.25728596e-01, -3.42135877e-01, -5.68367220e-01, -8.49740717e-01,\n",
       "       -1.13269946e+00, -1.19528229e-01, -4.97586883e-01, -1.21309460e+00,\n",
       "        3.54872934e-01, -1.80900866e-01, -6.13632040e-01, -1.14220955e+00,\n",
       "       -2.30546459e-02, -9.52488410e-01,  1.51474038e+00,  5.17841887e-01,\n",
       "        1.81602100e+00, -8.62390990e-01, -2.25797744e-01, -3.67086102e-01,\n",
       "       -1.15979911e+00,  1.53106992e+00, -3.51521665e-01,  1.16251869e+00,\n",
       "        1.74066309e+00, -4.68398167e-01,  2.78931407e-01, -2.84839121e-01,\n",
       "       -4.52656029e-02,  2.60882351e-01,  1.49435348e+00,  3.81929320e-01,\n",
       "       -1.40021809e-01, -8.04900831e-01, -1.25581641e+00,  2.53564958e-01,\n",
       "        1.20072330e+00,  1.95707924e-01, -6.67913825e-04, -7.38573767e-01,\n",
       "       -9.15595126e-01, -5.18664612e-01, -2.77708365e-01,  6.46901343e-02,\n",
       "        1.79155964e+00,  2.28508536e+00,  1.82986238e-01, -2.56277654e-01,\n",
       "        4.50738134e-01,  4.89596523e-01, -3.52936444e-01, -6.01695395e-01,\n",
       "       -1.41416472e-01, -9.57886290e-01, -2.09939442e-01, -7.08159397e-01,\n",
       "        1.27356455e-01,  2.65251914e-01, -6.50394965e-01, -1.16051435e+00,\n",
       "        2.56850997e-01, -1.30448783e+00])"
      ]
     },
     "execution_count": 55,
     "metadata": {},
     "output_type": "execute_result"
    }
   ],
   "source": [
    "pred = lreg.predict(xtest)\n",
    "pred"
   ]
  },
  {
   "cell_type": "code",
   "execution_count": 56,
   "id": "db616c9a",
   "metadata": {},
   "outputs": [],
   "source": [
    "from sklearn.metrics import r2_score,mean_squared_error, mean_absolute_error"
   ]
  },
  {
   "cell_type": "code",
   "execution_count": 57,
   "id": "84d0d210",
   "metadata": {},
   "outputs": [
    {
     "data": {
      "text/plain": [
       "0.2119527777916159"
      ]
     },
     "execution_count": 57,
     "metadata": {},
     "output_type": "execute_result"
    }
   ],
   "source": [
    "mse1=mean_squared_error(ytest,pred)\n",
    "mse1"
   ]
  },
  {
   "cell_type": "code",
   "execution_count": 58,
   "id": "c8455e63",
   "metadata": {},
   "outputs": [
    {
     "data": {
      "text/plain": [
       "0.2884879235849195"
      ]
     },
     "execution_count": 58,
     "metadata": {},
     "output_type": "execute_result"
    }
   ],
   "source": [
    "mae1=mean_absolute_error(ytest,pred)\n",
    "mae1"
   ]
  },
  {
   "cell_type": "code",
   "execution_count": 59,
   "id": "e26e7cec",
   "metadata": {},
   "outputs": [
    {
     "data": {
      "text/plain": [
       "0.7864501086456576"
      ]
     },
     "execution_count": 59,
     "metadata": {},
     "output_type": "execute_result"
    }
   ],
   "source": [
    "r_score1=r2_score(ytest,pred)\n",
    "r_score1"
   ]
  },
  {
   "cell_type": "code",
   "execution_count": 60,
   "id": "92d77f21",
   "metadata": {},
   "outputs": [
    {
     "data": {
      "text/plain": [
       "0.7864501086456576"
      ]
     },
     "execution_count": 60,
     "metadata": {},
     "output_type": "execute_result"
    }
   ],
   "source": [
    "lreg.score(xtest,ytest)"
   ]
  },
  {
   "cell_type": "code",
   "execution_count": 61,
   "id": "4ee18673",
   "metadata": {},
   "outputs": [
    {
     "data": {
      "text/plain": [
       "0.7627703617628925"
      ]
     },
     "execution_count": 61,
     "metadata": {},
     "output_type": "execute_result"
    }
   ],
   "source": [
    "lreg.score(xtrain,ytrain)"
   ]
  },
  {
   "cell_type": "code",
   "execution_count": 62,
   "id": "ffc655da",
   "metadata": {},
   "outputs": [
    {
     "data": {
      "text/html": [
       "<div>\n",
       "<style scoped>\n",
       "    .dataframe tbody tr th:only-of-type {\n",
       "        vertical-align: middle;\n",
       "    }\n",
       "\n",
       "    .dataframe tbody tr th {\n",
       "        vertical-align: top;\n",
       "    }\n",
       "\n",
       "    .dataframe thead th {\n",
       "        text-align: right;\n",
       "    }\n",
       "</style>\n",
       "<table border=\"1\" class=\"dataframe\">\n",
       "  <thead>\n",
       "    <tr style=\"text-align: right;\">\n",
       "      <th></th>\n",
       "      <th>Actual value</th>\n",
       "      <th>Predicted value</th>\n",
       "    </tr>\n",
       "  </thead>\n",
       "  <tbody>\n",
       "    <tr>\n",
       "      <th>764</th>\n",
       "      <td>-0.001730</td>\n",
       "      <td>-0.006694</td>\n",
       "    </tr>\n",
       "    <tr>\n",
       "      <th>887</th>\n",
       "      <td>-0.588942</td>\n",
       "      <td>-0.517453</td>\n",
       "    </tr>\n",
       "    <tr>\n",
       "      <th>890</th>\n",
       "      <td>1.307400</td>\n",
       "      <td>2.182572</td>\n",
       "    </tr>\n",
       "    <tr>\n",
       "      <th>1293</th>\n",
       "      <td>0.022786</td>\n",
       "      <td>0.010143</td>\n",
       "    </tr>\n",
       "    <tr>\n",
       "      <th>259</th>\n",
       "      <td>1.468841</td>\n",
       "      <td>0.512576</td>\n",
       "    </tr>\n",
       "    <tr>\n",
       "      <th>...</th>\n",
       "      <td>...</td>\n",
       "      <td>...</td>\n",
       "    </tr>\n",
       "    <tr>\n",
       "      <th>701</th>\n",
       "      <td>0.050566</td>\n",
       "      <td>0.265252</td>\n",
       "    </tr>\n",
       "    <tr>\n",
       "      <th>672</th>\n",
       "      <td>-0.780680</td>\n",
       "      <td>-0.650395</td>\n",
       "    </tr>\n",
       "    <tr>\n",
       "      <th>1163</th>\n",
       "      <td>-1.501007</td>\n",
       "      <td>-1.160514</td>\n",
       "    </tr>\n",
       "    <tr>\n",
       "      <th>1103</th>\n",
       "      <td>0.242090</td>\n",
       "      <td>0.256851</td>\n",
       "    </tr>\n",
       "    <tr>\n",
       "      <th>1295</th>\n",
       "      <td>-1.616913</td>\n",
       "      <td>-1.304488</td>\n",
       "    </tr>\n",
       "  </tbody>\n",
       "</table>\n",
       "<p>402 rows × 2 columns</p>\n",
       "</div>"
      ],
      "text/plain": [
       "      Actual value  Predicted value\n",
       "764      -0.001730        -0.006694\n",
       "887      -0.588942        -0.517453\n",
       "890       1.307400         2.182572\n",
       "1293      0.022786         0.010143\n",
       "259       1.468841         0.512576\n",
       "...            ...              ...\n",
       "701       0.050566         0.265252\n",
       "672      -0.780680        -0.650395\n",
       "1163     -1.501007        -1.160514\n",
       "1103      0.242090         0.256851\n",
       "1295     -1.616913        -1.304488\n",
       "\n",
       "[402 rows x 2 columns]"
      ]
     },
     "execution_count": 62,
     "metadata": {},
     "output_type": "execute_result"
    }
   ],
   "source": [
    "mlreg_diff1 = pd.DataFrame({'Actual value': ytest, 'Predicted value': pred})\n",
    "mlreg_diff1"
   ]
  },
  {
   "cell_type": "code",
   "execution_count": 63,
   "id": "e9ad022a",
   "metadata": {},
   "outputs": [
    {
     "name": "stdout",
     "output_type": "stream",
     "text": [
      "r2 score: 0.7864501086456576\n",
      "R squared: 76.99\n",
      "Mean Absolute Error: 0.2884879235849195\n",
      "Mean Square Error: 0.2119527777916159\n",
      "Root Mean Square Error: 0.46038329443151593\n"
     ]
    }
   ],
   "source": [
    "rootMeanSqErr1 = np.sqrt(mse1)\n",
    "print('r2 score:', r_score1)\n",
    "print('R squared: {:.2f}'.format(lreg.score(X,Y)*100))\n",
    "print('Mean Absolute Error:', mae1)\n",
    "print('Mean Square Error:', mse1)\n",
    "print('Root Mean Square Error:', rootMeanSqErr1)"
   ]
  },
  {
   "cell_type": "markdown",
   "id": "4be94151",
   "metadata": {},
   "source": [
    "# Apply KNN Regressor"
   ]
  },
  {
   "cell_type": "code",
   "execution_count": 64,
   "id": "7ec447f0",
   "metadata": {},
   "outputs": [],
   "source": [
    "from sklearn.neighbors import KNeighborsRegressor\n",
    "knn=KNeighborsRegressor(n_neighbors=7)"
   ]
  },
  {
   "cell_type": "code",
   "execution_count": 65,
   "id": "72a7cd62",
   "metadata": {},
   "outputs": [
    {
     "data": {
      "text/plain": [
       "KNeighborsRegressor(n_neighbors=7)"
      ]
     },
     "execution_count": 65,
     "metadata": {},
     "output_type": "execute_result"
    }
   ],
   "source": [
    "knn.fit(x_train,y_train)"
   ]
  },
  {
   "cell_type": "code",
   "execution_count": 66,
   "id": "95c9cddb",
   "metadata": {},
   "outputs": [],
   "source": [
    "knn_pred=knn.predict(x_test)"
   ]
  },
  {
   "cell_type": "code",
   "execution_count": 67,
   "id": "1fafc82f",
   "metadata": {},
   "outputs": [
    {
     "name": "stdout",
     "output_type": "stream",
     "text": [
      "KNN_mean_squared_error \"MSE:\" 127146447.83043788\n",
      "KNN Root Mean Square Error: 11275.923369304966\n",
      "KNN_mean_absolute_error \"MAE:\" 8114.493024337953\n",
      "KNN_r2_score: 0.13284195740417548\n",
      "KNN R squared: 26.22\n"
     ]
    }
   ],
   "source": [
    "knn_mse=mean_squared_error(y_test,knn_pred)\n",
    "knn_mae=mean_absolute_error(y_test,knn_pred)\n",
    "knn_r2_score=r2_score(y_test,knn_pred)\n",
    "knn_rootMeanSqErr = np.sqrt(knn_mse)\n",
    "print(\"KNN_mean_squared_error \\\"MSE:\\\"\",knn_mse)\n",
    "print('KNN Root Mean Square Error:', knn_rootMeanSqErr)\n",
    "print(\"KNN_mean_absolute_error \\\"MAE:\\\"\",knn_mae)\n",
    "print(\"KNN_r2_score:\",knn_r2_score)\n",
    "print('KNN R squared: {:.2f}'.format(knn.score(x,y)*100))\n"
   ]
  },
  {
   "cell_type": "code",
   "execution_count": 68,
   "id": "370cd920",
   "metadata": {},
   "outputs": [],
   "source": [
    "# Using Normally Distributed Data"
   ]
  },
  {
   "cell_type": "code",
   "execution_count": 69,
   "id": "d246c086",
   "metadata": {},
   "outputs": [],
   "source": [
    "knn.fit(xtrain,ytrain)\n",
    "knn_pred1=knn.predict(xtest)"
   ]
  },
  {
   "cell_type": "code",
   "execution_count": 70,
   "id": "3b8a6f17",
   "metadata": {},
   "outputs": [
    {
     "name": "stdout",
     "output_type": "stream",
     "text": [
      "KNN_mean_squared_error \"MSE:\" 0.66965844587321\n",
      "KNN Root Mean Square Error: 0.8183266132011167\n",
      "KNN_mean_absolute_error \"MAE:\" 0.6141108331826223\n",
      "KNN_r2_score: 0.3252955217159763\n",
      "KNN R squared: 39.87\n"
     ]
    }
   ],
   "source": [
    "knn_mse=mean_squared_error(ytest,knn_pred1)\n",
    "knn_mae=mean_absolute_error(ytest,knn_pred1)\n",
    "knn_r2_score=r2_score(ytest,knn_pred1)\n",
    "knn_rootMeanSqErr = np.sqrt(knn_mse)\n",
    "print(\"KNN_mean_squared_error \\\"MSE:\\\"\",knn_mse)\n",
    "print('KNN Root Mean Square Error:', knn_rootMeanSqErr)\n",
    "print(\"KNN_mean_absolute_error \\\"MAE:\\\"\",knn_mae)\n",
    "print(\"KNN_r2_score:\",knn_r2_score)\n",
    "print('KNN R squared: {:.2f}'.format(knn.score(X,Y)*100))\n"
   ]
  },
  {
   "cell_type": "code",
   "execution_count": 71,
   "id": "291c5ea2",
   "metadata": {},
   "outputs": [
    {
     "data": {
      "text/html": [
       "<div>\n",
       "<style scoped>\n",
       "    .dataframe tbody tr th:only-of-type {\n",
       "        vertical-align: middle;\n",
       "    }\n",
       "\n",
       "    .dataframe tbody tr th {\n",
       "        vertical-align: top;\n",
       "    }\n",
       "\n",
       "    .dataframe thead th {\n",
       "        text-align: right;\n",
       "    }\n",
       "</style>\n",
       "<table border=\"1\" class=\"dataframe\">\n",
       "  <thead>\n",
       "    <tr style=\"text-align: right;\">\n",
       "      <th></th>\n",
       "      <th>Result Name</th>\n",
       "      <th>Result Score</th>\n",
       "    </tr>\n",
       "  </thead>\n",
       "  <tbody>\n",
       "    <tr>\n",
       "      <th>0</th>\n",
       "      <td>LREG r2 score:</td>\n",
       "      <td>0.786450</td>\n",
       "    </tr>\n",
       "    <tr>\n",
       "      <th>1</th>\n",
       "      <td>KNN r2 score:</td>\n",
       "      <td>0.325296</td>\n",
       "    </tr>\n",
       "    <tr>\n",
       "      <th>2</th>\n",
       "      <td>LREG Mean Square Error:</td>\n",
       "      <td>0.211953</td>\n",
       "    </tr>\n",
       "    <tr>\n",
       "      <th>3</th>\n",
       "      <td>KNN Mean Square Error:</td>\n",
       "      <td>0.669658</td>\n",
       "    </tr>\n",
       "    <tr>\n",
       "      <th>4</th>\n",
       "      <td>LREG Mean Absolute Error:</td>\n",
       "      <td>0.288488</td>\n",
       "    </tr>\n",
       "    <tr>\n",
       "      <th>5</th>\n",
       "      <td>KNN Mean Absolute Error:</td>\n",
       "      <td>0.614111</td>\n",
       "    </tr>\n",
       "    <tr>\n",
       "      <th>6</th>\n",
       "      <td>LREG Root Mean Square Error:</td>\n",
       "      <td>0.460383</td>\n",
       "    </tr>\n",
       "    <tr>\n",
       "      <th>7</th>\n",
       "      <td>KNN Root Mean Square Error:</td>\n",
       "      <td>0.818327</td>\n",
       "    </tr>\n",
       "  </tbody>\n",
       "</table>\n",
       "</div>"
      ],
      "text/plain": [
       "                    Result Name  Result Score\n",
       "0                LREG r2 score:      0.786450\n",
       "1                 KNN r2 score:      0.325296\n",
       "2       LREG Mean Square Error:      0.211953\n",
       "3        KNN Mean Square Error:      0.669658\n",
       "4     LREG Mean Absolute Error:      0.288488\n",
       "5      KNN Mean Absolute Error:      0.614111\n",
       "6  LREG Root Mean Square Error:      0.460383\n",
       "7   KNN Root Mean Square Error:      0.818327"
      ]
     },
     "execution_count": 71,
     "metadata": {},
     "output_type": "execute_result"
    }
   ],
   "source": [
    "LRDF = pd.DataFrame({'Result Name': ['LREG r2 score:','KNN r2 score:','LREG Mean Square Error:','KNN Mean Square Error:','LREG Mean Absolute Error:','KNN Mean Absolute Error:', 'LREG Root Mean Square Error:','KNN Root Mean Square Error:'], 'Result Score': [r_score1,knn_r2_score,mse1,knn_mse,mae1,knn_mae,rootMeanSqErr1,knn_rootMeanSqErr]})\n",
    "LRDF"
   ]
  },
  {
   "cell_type": "code",
   "execution_count": 72,
   "id": "389b15f5",
   "metadata": {},
   "outputs": [
    {
     "data": {
      "text/plain": [
       "<AxesSubplot:xlabel='Result Score', ylabel='Result Name'>"
      ]
     },
     "execution_count": 72,
     "metadata": {},
     "output_type": "execute_result"
    },
    {
     "data": {
      "image/png": "[encoded data removed]",
      "text/plain": [
       "<Figure size 432x288 with 1 Axes>"
      ]
     },
     "metadata": {
      "needs_background": "light"
     },
     "output_type": "display_data"
    }
   ],
   "source": [
    "sns.barplot(y='Result Name',x='Result Score',data=LRDF,palette='Set1')"
   ]
  },
  {
   "cell_type": "code",
   "execution_count": null,
   "id": "0e8a9a14",
   "metadata": {},
   "outputs": [],
   "source": []
  }
 ],
 "metadata": {
  "kernelspec": {
   "display_name": "Python 3 (ipykernel)",
   "language": "python",
   "name": "python3"
  },
  "language_info": {
   "codemirror_mode": {
    "name": "ipython",
    "version": 3
   },
   "file_extension": ".py",
   "mimetype": "text/x-python",
   "name": "python",
   "nbconvert_exporter": "python",
   "pygments_lexer": "ipython3",
   "version": "3.9.7"
  }
 },
 "nbformat": 4,
 "nbformat_minor": 5
}
